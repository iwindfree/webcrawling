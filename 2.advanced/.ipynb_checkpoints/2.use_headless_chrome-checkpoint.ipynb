{
 "cells": [
  {
   "cell_type": "markdown",
   "metadata": {},
   "source": [
    "# Headless chrome\n",
    "터미널에서 크롤링을 하거나, 또는 selenium 을 사용해서 브라우저를 실제로 실행시킬 필요가 없는 경우, 예전에는 \n",
    "Phantom.js 를 사용했으나, 최근에 selenium 측에서는 phantom.js 를 deprecate 시키고, 대신\n",
    "headless chrome 을 사용하는 것을 권장하고 있다."
   ]
  },
  {
   "cell_type": "code",
   "execution_count": 1,
   "metadata": {},
   "outputs": [
    {
     "name": "stdout",
     "output_type": "stream",
     "text": [
      "https://www.python.org/\n",
      "Welcome to Python.org\n",
      "Python Documentation by Version\n",
      "Download Python for Other Platforms\n",
      "Python 2.5.3\n",
      "Python 2.5.4 Release\n",
      "Python 2.5.4\n",
      "Python 2.5.3 Release\n",
      "Python 2.5 Release\n",
      "Python 2.5.2 Release\n",
      "Sunsetting Python 2\n",
      "Python 2.5.1 Release\n",
      "Python 3.1.4\n",
      "Python 2.5.0\n",
      "Python 2.5.2\n",
      "Python 3.1.4 Release\n",
      "Python 3.1.3 Release\n",
      "Python 2.5.1\n",
      "Python 3.2.1 Release\n",
      "Python 2.7.9rc1\n",
      "Python 3.0 Release\n",
      "Python 3.2.5 Release\n"
     ]
    }
   ],
   "source": [
    "from selenium import webdriver\n",
    "from selenium.webdriver.common.keys import Keys\n",
    "import time\n",
    "\n",
    "chromedriver='/usr/local/Cellar/chromedriver/chromedriver'\n",
    "opt = webdriver.ChromeOptions()\n",
    "opt.add_argument('headless')\n",
    "driver = webdriver.Chrome(chromedriver,options=opt)\n",
    "driver.get('https://www.python.org')\n",
    "# 옵션에는 다양한 값을 설정할 수 있다. ex: User-Agent 설정 등 http header 관련 값들을 설정할 때 사용\n",
    "# opt.add_argument('User-Agent: xxxxxxxx')\n",
    "\n",
    "print(driver.current_url)\n",
    "print(driver.title)\n",
    "assert \"Python\" in driver.title  # title 에 Python 이라는 문자열이 없으면 여기서 프로그램 종료\n",
    "elem=driver.find_element_by_id('id-search-field')\n",
    "# 키보드 이벤트 전달\n",
    "elem.send_keys(\"python\")\n",
    "elem.send_keys(Keys.RETURN)\n",
    "assert \"No results found.\" not in driver.page_source\n",
    "# 일정시간 대기\n",
    "time.sleep(2)\n",
    "#브라우저 닫가\n",
    "s_titles=driver.find_elements_by_css_selector(\"#content > div > section > form > ul > li  > h3 > a \")\n",
    "for t in s_titles:\n",
    "    print(t.text)\n",
    "\n",
    "driver.quit()"
   ]
  },
  {
   "cell_type": "markdown",
   "metadata": {},
   "source": [
    "참고> 요소의 내용을 가져올 때 head 태그 안의 요소를 갖고 올때는 get_attribute('text') 를 이용합니다. \n",
    "body 안의 요소 내용은 그냥 text 로 갖고 오면 됩니다."
   ]
  },
  {
   "cell_type": "code",
   "execution_count": 7,
   "metadata": {},
   "outputs": [
    {
     "name": "stdout",
     "output_type": "stream",
     "text": [
      "\n",
      "Welcome to Python.org\n"
     ]
    }
   ],
   "source": [
    "from selenium import webdriver\n",
    "from selenium.webdriver.common.keys import Keys\n",
    "import time\n",
    "chromedriver='/usr/local/Cellar/chromedriver/chromedriver'\n",
    "opt = webdriver.ChromeOptions()\n",
    "opt.add_argument('headless')\n",
    "driver = webdriver.Chrome(chromedriver,options=opt)\n",
    "driver.get('https://www.python.org')\n",
    "elem = driver.find_element_by_css_selector('head > title')\n",
    "print(elem.text) # text 로는 출력이 안됨\n",
    "print (elem.get_attribute('text'))"
   ]
  },
  {
   "cell_type": "markdown",
   "metadata": {},
   "source": [
    "특정 태그 밑의 속성값이 일치하는 조건으로 크롤링을 수행할 수도 있다. "
   ]
  },
  {
   "cell_type": "code",
   "execution_count": 9,
   "metadata": {},
   "outputs": [
    {
     "name": "stdout",
     "output_type": "stream",
     "text": [
      "Get Started\n",
      "Whether you're new to programming or an experienced developer, it's easy to learn and use Python.\n",
      "Start with our Beginner’s Guide\n",
      "Download\n",
      "Python source code and installers are available for download for all versions!\n",
      "Latest: Python 3.9.5\n",
      "Docs\n",
      "Documentation for Python's standard library, along with tutorials and guides, are available online.\n",
      "docs.python.org\n",
      "Jobs\n",
      "Looking for work or have a Python related position that you're trying to hire for? Our relaunched community-run job board is the place to go.\n",
      "jobs.python.org\n",
      "Latest News\n",
      "More\n",
      "06-17\n",
      "Python 3.10.0b3 is available\n",
      "06-16\n",
      "Update on the Python Software Foundation Executive Director\n",
      "06-09\n",
      "The 2021 Python Language Summit: Lightning Talks, Round 2\n",
      "06-06\n",
      "The 2021 Python Language Summit: Fuzzing and Testing Python With Properties\n",
      "06-05\n",
      "The 2021 Python Language Summit: What Should I Work on as a Core Dev?\n",
      "Upcoming Events\n",
      "More\n",
      "06-30\n",
      "Pyladies Amsterdam - Bringing ML Models into Production Bootcamp - Lesson 1\n",
      "07-05\n",
      "PyHEP 2021\n",
      "07-07\n",
      "Pyladies Amsterdam - Bringing ML Models into Production Bootcamp - Lesson 2\n",
      "07-12\n",
      "SciPy 2021\n",
      "07-14\n",
      "Pyladies Amsterdam - Bringing ML Models into Production Bootcamp - Lesson 3\n",
      "Success Stories\n",
      "More\n",
      "When an Open Data standard is created and promoted, it’s important to think why - what change is this trying to drive? What will people do with this data that they couldn’t do before?\n",
      "Saving the world with Open Data and Python by James Baster\n",
      "Use Python for…\n",
      "More\n",
      "Web Development:\n",
      "Django, Pyramid, Bottle, Tornado, Flask, web2py\n",
      "GUI Development:\n",
      "tkInter, PyGObject, PyQt, PySide, Kivy, wxPython\n",
      "Scientific and Numeric:\n",
      "SciPy, Pandas, IPython\n",
      "Software Development:\n",
      "Buildbot, Trac, Roundup\n",
      "System Administration:\n",
      "Ansible, Salt, OpenStack\n",
      ">>> Python Enhancement Proposals: The future of Python RSS\n",
      ">>> Python Software Foundation\n",
      "The mission of the Python Software Foundation is to promote, protect, and advance the Python programming language, and to support and facilitate the growth of a diverse and international community of Python programmers. Learn more\n",
      "Become a Member Donate to the PSF\n",
      "None\n"
     ]
    }
   ],
   "source": [
    "from selenium import webdriver\n",
    "from selenium.webdriver.common.keys import Keys\n",
    "import time\n",
    "chromedriver='/usr/local/Cellar/chromedriver/chromedriver'\n",
    "opt = webdriver.ChromeOptions()\n",
    "opt.add_argument('headless')\n",
    "driver = webdriver.Chrome(chromedriver,options=opt)\n",
    "driver.get('https://www.python.org')\n",
    "elem = driver.find_element_by_css_selector(\"div > section[role='main']\")\n",
    "print(elem.text) # text 로는 출력이 안됨\n",
    "print (elem.get_attribute('tex'))"
   ]
  }
 ],
 "metadata": {
  "kernelspec": {
   "display_name": "Python 3",
   "language": "python",
   "name": "python3"
  },
  "language_info": {
   "codemirror_mode": {
    "name": "ipython",
    "version": 3
   },
   "file_extension": ".py",
   "mimetype": "text/x-python",
   "name": "python",
   "nbconvert_exporter": "python",
   "pygments_lexer": "ipython3",
   "version": "3.8.5"
  }
 },
 "nbformat": 4,
 "nbformat_minor": 4
}
