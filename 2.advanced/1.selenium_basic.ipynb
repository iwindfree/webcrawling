{
 "cells": [
  {
   "cell_type": "markdown",
   "metadata": {},
   "source": [
    "# selenium 을 이용하여 chrome browser 열기\n",
    "\n",
    "selenium 을 설치하고, chromedriver 를 설치하였다면 아래와 같은 코드를 이용하여 chrome browser을 열수 있습니다."
   ]
  },
  {
   "cell_type": "code",
   "execution_count": 2,
   "metadata": {},
   "outputs": [],
   "source": [
    "# selenium 로드하기\n",
    "from selenium import webdriver\n",
    "from selenium.webdriver.common.keys import Keys\n",
    "\n",
    "chromedriver='/usr/local/Cellar/chromedriver/chromedriver'\n",
    "driver = webdriver.Chrome(chromedriver)"
   ]
  },
  {
   "cell_type": "markdown",
   "metadata": {},
   "source": [
    "위의 코드를 실행하면 chrome 이 실행되는 것을 확인할 수 있습니다.\n",
    "이번에는 특정 url 을 오픈해보겠습니다."
   ]
  },
  {
   "cell_type": "code",
   "execution_count": 2,
   "metadata": {},
   "outputs": [],
   "source": [
    "from selenium import webdriver\n",
    "from selenium.webdriver.common.keys import Keys\n",
    "\n",
    "chromedriver='/usr/local/Cellar/chromedriver/chromedriver'\n",
    "driver = webdriver.Chrome(chromedriver)\n",
    "driver.get('http://naver.com')"
   ]
  },
  {
   "cell_type": "markdown",
   "metadata": {},
   "source": [
    "이번에는 키보드 이벤트를 발생시켜 특정 검색을 수행하는 예제입니다. \n",
    "몇가지 주요 함수를 사용해서 만들어 보겠습니다. \n",
    "* 주요함수\n",
    " - assert 로 driver.page_source 에서 특정 키워드 확인\n",
    " - time.sleep() :일정 시간 동안 대기\n",
    " - driver.quit() : 브라우저 종료"
   ]
  },
  {
   "cell_type": "code",
   "execution_count": 12,
   "metadata": {},
   "outputs": [],
   "source": [
    "# find_element_by_name() -> 최초로 발견한 요소를 갖고 오기\n",
    "# find_elements_by_name() -> name 값을 갖고 있는 모든 요소 갖고 오기\n",
    "from selenium import webdriver\n",
    "from selenium.webdriver.common.keys import Keys\n",
    "import time\n",
    "\n",
    "chromedriver='/usr/local/Cellar/chromedriver/chromedriver'\n",
    "driver = webdriver.Chrome(chromedriver)\n",
    "driver.get('https://www.python.org')\n",
    "assert \"Python\" in driver.title  # title 에 Python 이라는 문자열이 없으면 여기서 프로그램 종료\n",
    "elem=driver.find_element_by_name('q')\n",
    "elem.send_keys(\"python\")\n",
    "elem.send_keys(Keys.RETURN)\n",
    "assert \"No results found.\" not in driver.page_source\n",
    "# 일정시간 대기\n",
    "time.sleep(10)\n",
    "#브라우저 닫가\n",
    "driver.quit()"
   ]
  },
  {
   "cell_type": "markdown",
   "metadata": {},
   "source": [
    "* find_element_by_tag_name : 태그 이름(최초 나오는 태그) \n",
    "* find_elements_by_tag_name : 모든 태그 검색"
   ]
  },
  {
   "cell_type": "code",
   "execution_count": 13,
   "metadata": {},
   "outputs": [
    {
     "name": "stdout",
     "output_type": "stream",
     "text": [
      "\n",
      "Results\n",
      "Python Documentation by Version\n",
      "Download Python for Other Platforms\n",
      "Release – Python 2.5.3\n",
      "Python 2.5.4 Release\n",
      "Release – Python 2.5.4\n",
      "Python 2.5.3 Release\n",
      "Python 2.5 Release\n",
      "Python 2.5.2 Release\n",
      "Sunsetting Python 2\n",
      "Python 2.5.1 Release\n",
      "Release – Python 3.1.4\n",
      "Release – Python 2.5.0\n",
      "Release – Python 2.5.2\n",
      "Python 3.1.4 Release\n",
      "Python 3.1.3 Release\n",
      "Release – Python 2.5.1\n",
      "Python 3.2.1 Release\n",
      "Release – Python 2.7.9rc1\n",
      "Python 3.0 Release\n",
      "Python 3.2.5 Release\n"
     ]
    }
   ],
   "source": [
    "# find_element_by_name() -> 최초로 발견한 요소를 갖고 오기\n",
    "# find_elements_by_name() -> name 값을 갖고 있는 모든 요소 갖고 오기\n",
    "from selenium import webdriver\n",
    "from selenium.webdriver.common.keys import Keys\n",
    "import time\n",
    "\n",
    "chromedriver='/usr/local/Cellar/chromedriver/chromedriver'\n",
    "driver = webdriver.Chrome(chromedriver)\n",
    "driver.get('https://www.python.org')\n",
    "assert \"Python\" in driver.title  # title 에 Python 이라는 문자열이 없으면 여기서 프로그램 종료\n",
    "elem=driver.find_element_by_name('q')\n",
    "# 키보드 이벤트 전달\n",
    "elem.send_keys(\"python\")\n",
    "elem.send_keys(Keys.RETURN)\n",
    "assert \"No results found.\" not in driver.page_source\n",
    "# 일정시간 대기\n",
    "time.sleep(2)\n",
    "#브라우저 닫가\n",
    "s_titles=driver.find_elements_by_tag_name(\"h3\")\n",
    "for t in s_titles:\n",
    "    print(t.text)\n",
    "\n",
    "driver.quit()"
   ]
  },
  {
   "cell_type": "markdown",
   "metadata": {},
   "source": [
    "* driver.current_url : 현재 사이트 주소\n",
    "* driver.title : 사이트 타이틀\n",
    "* 데이터 가져오는 주요 함수\n",
    "  - find_element_by_id\n",
    "  - find_element_by_name\n",
    "  - find_element_by_tag_name\n",
    "  - find_element_by_class_name\n",
    "  - find_element_by_css_selector\n",
    "  - find_element_by_xpath\n",
    "* 브라우저 컨트롤\n",
    "  - clear() : input box 초기화\n",
    "  - send_keys\n",
    "  \n",
    "    "
   ]
  },
  {
   "cell_type": "code",
   "execution_count": 25,
   "metadata": {
    "scrolled": true
   },
   "outputs": [
    {
     "name": "stdout",
     "output_type": "stream",
     "text": [
      "https://www.python.org/\n",
      "Welcome to Python.org\n",
      "Python Documentation by Version\n",
      "Download Python for Other Platforms\n",
      "Python 2.5.3\n",
      "Python 2.5.4 Release\n",
      "Python 2.5.4\n",
      "Python 2.5.3 Release\n",
      "Python 2.5 Release\n",
      "Python 2.5.2 Release\n",
      "Sunsetting Python 2\n",
      "Python 2.5.1 Release\n",
      "Python 3.1.4\n",
      "Python 2.5.0\n",
      "Python 2.5.2\n",
      "Python 3.1.4 Release\n",
      "Python 3.1.3 Release\n",
      "Python 2.5.1\n",
      "Python 3.2.1 Release\n",
      "Python 2.7.9rc1\n",
      "Python 3.0 Release\n",
      "Python 3.2.5 Release\n"
     ]
    }
   ],
   "source": [
    "from selenium import webdriver\n",
    "from selenium.webdriver.common.keys import Keys\n",
    "import time\n",
    "\n",
    "chromedriver='/usr/local/Cellar/chromedriver/chromedriver'\n",
    "driver = webdriver.Chrome(chromedriver)\n",
    "driver.get('https://www.python.org')\n",
    "print(driver.current_url)\n",
    "print(driver.title)\n",
    "assert \"Python\" in driver.title  # title 에 Python 이라는 문자열이 없으면 여기서 프로그램 종료\n",
    "elem=driver.find_element_by_id('id-search-field')\n",
    "# 키보드 이벤트 전달\n",
    "elem.send_keys(\"python\")\n",
    "elem.send_keys(Keys.RETURN)\n",
    "assert \"No results found.\" not in driver.page_source\n",
    "# 일정시간 대기\n",
    "time.sleep(2)\n",
    "#브라우저 닫가\n",
    "s_titles=driver.find_elements_by_css_selector(\"#content > div > section > form > ul > li  > h3 > a \")\n",
    "for t in s_titles:\n",
    "    print(t.text)\n",
    "\n",
    "driver.quit()"
   ]
  },
  {
   "cell_type": "code",
   "execution_count": 22,
   "metadata": {},
   "outputs": [
    {
     "data": {
      "text/plain": [
       "['ADD',\n",
       " 'ALT',\n",
       " 'ARROW_DOWN',\n",
       " 'ARROW_LEFT',\n",
       " 'ARROW_RIGHT',\n",
       " 'ARROW_UP',\n",
       " 'BACKSPACE',\n",
       " 'BACK_SPACE',\n",
       " 'CANCEL',\n",
       " 'CLEAR',\n",
       " 'COMMAND',\n",
       " 'CONTROL',\n",
       " 'DECIMAL',\n",
       " 'DELETE',\n",
       " 'DIVIDE',\n",
       " 'DOWN',\n",
       " 'END',\n",
       " 'ENTER',\n",
       " 'EQUALS',\n",
       " 'ESCAPE',\n",
       " 'F1',\n",
       " 'F10',\n",
       " 'F11',\n",
       " 'F12',\n",
       " 'F2',\n",
       " 'F3',\n",
       " 'F4',\n",
       " 'F5',\n",
       " 'F6',\n",
       " 'F7',\n",
       " 'F8',\n",
       " 'F9',\n",
       " 'HELP',\n",
       " 'HOME',\n",
       " 'INSERT',\n",
       " 'LEFT',\n",
       " 'LEFT_ALT',\n",
       " 'LEFT_CONTROL',\n",
       " 'LEFT_SHIFT',\n",
       " 'META',\n",
       " 'MULTIPLY',\n",
       " 'NULL',\n",
       " 'NUMPAD0',\n",
       " 'NUMPAD1',\n",
       " 'NUMPAD2',\n",
       " 'NUMPAD3',\n",
       " 'NUMPAD4',\n",
       " 'NUMPAD5',\n",
       " 'NUMPAD6',\n",
       " 'NUMPAD7',\n",
       " 'NUMPAD8',\n",
       " 'NUMPAD9',\n",
       " 'PAGE_DOWN',\n",
       " 'PAGE_UP',\n",
       " 'PAUSE',\n",
       " 'RETURN',\n",
       " 'RIGHT',\n",
       " 'SEMICOLON',\n",
       " 'SEPARATOR',\n",
       " 'SHIFT',\n",
       " 'SPACE',\n",
       " 'SUBTRACT',\n",
       " 'TAB',\n",
       " 'UP',\n",
       " '__class__',\n",
       " '__delattr__',\n",
       " '__dict__',\n",
       " '__dir__',\n",
       " '__doc__',\n",
       " '__eq__',\n",
       " '__format__',\n",
       " '__ge__',\n",
       " '__getattribute__',\n",
       " '__gt__',\n",
       " '__hash__',\n",
       " '__init__',\n",
       " '__init_subclass__',\n",
       " '__le__',\n",
       " '__lt__',\n",
       " '__module__',\n",
       " '__ne__',\n",
       " '__new__',\n",
       " '__reduce__',\n",
       " '__reduce_ex__',\n",
       " '__repr__',\n",
       " '__setattr__',\n",
       " '__sizeof__',\n",
       " '__str__',\n",
       " '__subclasshook__',\n",
       " '__weakref__']"
      ]
     },
     "execution_count": 22,
     "metadata": {},
     "output_type": "execute_result"
    }
   ],
   "source": [
    "dir(Keys)"
   ]
  }
 ],
 "metadata": {
  "kernelspec": {
   "display_name": "Python 3",
   "language": "python",
   "name": "python3"
  },
  "language_info": {
   "codemirror_mode": {
    "name": "ipython",
    "version": 3
   },
   "file_extension": ".py",
   "mimetype": "text/x-python",
   "name": "python",
   "nbconvert_exporter": "python",
   "pygments_lexer": "ipython3",
   "version": "3.8.5"
  }
 },
 "nbformat": 4,
 "nbformat_minor": 4
}
