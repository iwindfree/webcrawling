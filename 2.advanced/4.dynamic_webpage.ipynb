{
 "cells": [
  {
   "cell_type": "raw",
   "metadata": {},
   "source": [
    "# 동적웹페이지 크롤링\n",
    "\n",
    "동적웹페이지는 일반적으로 정적인 페이지가 그려진 후 새로 갱신되어야 될 부분만 데이터가 채워지는 방식으로 작동합니다. 일반적으로 javascript 를 이용한 ajax call 로 많이 이루어지게 되는데 이러한 동적 영역을 크롤링 할때에는 정적페이지가 로딩된 후 동적으로 채워지는 요소에 데이터가 갱신되었는지를 확인하는 작업이 필요합니다. ㅠ"
   ]
  },
  {
   "cell_type": "markdown",
   "metadata": {},
   "source": [
    "## 특정 태그 일정시간 기다리기\n"
   ]
  },
  {
   "cell_type": "code",
   "execution_count": null,
   "metadata": {},
   "outputs": [],
   "source": [
    "from selenium.webdriver.support.ui import WebDriverWait\n",
    "from selenium.webdriver.support import expected_conditioni as EC\n",
    "# 해당 태그가 나타날 때까지 지정한 시간동안 대기 (ex: 3초 )\n",
    "element = WebDriverWait(driver,3).until(\n",
    "        EC.presence_of_element_located((BY.ID,\"alex-area\"))\n",
    "    )"
   ]
  },
  {
   "cell_type": "markdown",
   "metadata": {},
   "source": [
    "## 특정 태그 존재 여부 확인 기능"
   ]
  },
  {
   "cell_type": "markdown",
   "metadata": {},
   "source": [
    "from selenium.webdriver.common.by import by\n",
    "\n",
    "* 해당 캐그가 존재하는지 확인\n",
    "  - By.ID\n",
    "  - By.CLASSX_NAME\n",
    "  - By.CSS_SELECTOR\n",
    "  - By.NAME\n",
    "  - BY.TAG_NAME"
   ]
  },
  {
   "cell_type": "code",
   "execution_count": null,
   "metadata": {},
   "outputs": [],
   "source": [
    "# example code\n",
    "try:\n",
    "    element = WebDriverWait(driver,3).until(\n",
    "        EC.presence_of_element_located((BY.ID,\"alex-area\"))\n",
    "    )\n",
    "    more_button = driver.find_element_by_css_selector(\"a\")\n",
    "    more_button.click()\n",
    "    count +=1\n",
    "except TimeoutException:\n",
    "    loop = false"
   ]
  },
  {
   "cell_type": "markdown",
   "metadata": {},
   "source": [
    "# 키보드 / 마우스 동작 제어하기"
   ]
  },
  {
   "cell_type": "code",
   "execution_count": null,
   "metadata": {},
   "outputs": [],
   "source": [
    "# example code\n",
    "from selenium import webdriver\n",
    "hidden_submenu = driver.find_element_by_css_selector(\".nav #submenu1\")\n",
    "actions=webdriver.ActionChains(driver)\n",
    "actions.click(hidden_subment)\n",
    "actions.perform()"
   ]
  },
  {
   "cell_type": "markdown",
   "metadata": {},
   "source": [
    "# 실전 예제 (다음 뉴스 댓글 가져요기)"
   ]
  },
  {
   "cell_type": "code",
   "execution_count": 27,
   "metadata": {},
   "outputs": [
    {
     "name": "stdout",
     "output_type": "stream",
     "text": [
      "0 -> 정권이 무능하면 청렴이라도 해야지.\n",
      "무능에 부패에 성범죄에 독선에 . . . .\n",
      "1 -> 부동산폭등  청와대 가  주도합니다.\n",
      "대변인.수석.비서관까지  3년째   이럴수가\n",
      "문정부 는   이렇게  무능합니까?\n",
      "2 -> 문어벙~~\n",
      "문재앙~~~\n",
      "얘기 좀 해봐~~~~\n",
      "3 -> 담보가 있다고해도\n",
      "일반 직장인에게\n",
      "대출을 그렇게 많이\n",
      "해주는 은행이 있나?\n",
      "금시 초문이네...\n",
      "국내 은행에서는\n",
      "최소한 이자 갚을 만큼의\n",
      "급여 소득이 있어야\n",
      "대출해주는거 아닌가?\n",
      "이것도 구린내가 진동한다.\n",
      "공수처는 철저히 수사해라.\n",
      "공수래, 공수거하지 말고...\n",
      "내로남불, \n",
      "내편무죄, \n",
      "니편 유죄 \n",
      "그런거 적용하지말고...\n",
      "4 -> 진짜 이정부는 역겨움이 뭔지 잘보여준다...\n",
      "쓰레기매립장가도 여기보단 쓰레기 적을듯\n",
      "5 -> 청와대 \n",
      "한 마디에\n",
      "금융권에서 알아서 기었나 보네요\n",
      "이용해먹는 *이나\n",
      "알아서 갖다바치는 *이나\n",
      "6 -> 청와대에서는 사전 검증도 않하고 임명하나?\n",
      "7 -> 이번 정권은 도대체 최순실이 몇이냐\n",
      "8 -> 반부패비서관이라 과연 적재적소에 배치한 탁월한 인사에 감탄합니다.\n",
      "9 -> 반부패가 뭔지부터 좀 알자 ᆢ\n",
      "부도산 투자하는 부서가 ?\n",
      "10 -> ㅋㅋ54억\n",
      "누가대출을했줘을까..\n",
      "재앙이편은\n",
      "다할수있다..공정과정의롭게..ㅋ\n",
      "11 -> 이제 영원히 민주당과 결별한다 답이없다\n",
      "12 -> 왜 매번 폭로로 드러나는건데. 공무원 중 대표 적으로 자리에 서는 사람들은 전부 머리에 우동서리 쳐넣은거야? 사전에 최악을 생각하고 움직이면 이러지도 않을거잖아. 그것도 생각 못하면서 무슨 국정이야 때려쳐라. 나이를 xx로 쳐드신게 아니라면 내 행동으로 인해 주변에서 어떻게 생각할 지는 알거 아닌가. 몰라도 된다로 생각하고 행했으면 심각한 결격사유고.  가관이다 진짜.\n",
      "13 -> 아 테스형 청와대가 왜이래?\n",
      "14 -> 일반국민이 대출받을려면 꿈같은 금액\n"
     ]
    }
   ],
   "source": [
    "from selenium import webdriver\n",
    "from selenium.webdriver.common.by import By\n",
    "from selenium.webdriver.support.ui import WebDriverWait\n",
    "from selenium.webdriver.support import expected_conditions as EC\n",
    "from selenium.common.exceptions import TimeoutException\n",
    "import time\n",
    "\n",
    "chromedriver='/usr/local/Cellar/chromedriver/chromedriver'\n",
    "opt = webdriver.ChromeOptions()\n",
    "#opt.add_argument('headless')\n",
    "driver = webdriver.Chrome(chromedriver,options=opt)\n",
    "driver.get('https://news.v.daum.net/v/20210626220709355')\n",
    "loop = True\n",
    "while loop  :\n",
    "    try:\n",
    "        element = WebDriverWait(driver,5).until(\n",
    "        EC.presence_of_element_located((By.CSS_SELECTOR,\"#alex-area > div > div > div > div.cmt_box > div.alex_more > button\"))\n",
    "        )\n",
    "        more_button = driver.find_element_by_css_selector(\"#alex-area > div > div > div > div.cmt_box > div.alex_more > button\")\n",
    "        webdriver.ActionChains(driver).click(more_button).perform()\n",
    "        time.sleep(2) # 더보기 버튼을 누른 후 2초간의 시간을 대기함으로써 현재의 더보기 버튼이 다음 클릭시 더보기 버튼으로 인지하는 오류 방지\n",
    "    except:\n",
    "        loop = False\n",
    "\n",
    "comment_area = driver.find_element_by_css_selector(\"#alex-area > div > div > div > div.cmt_box > ul.list_comment\")\n",
    "comments =  comment_area.find_elements_by_tag_name(\"li\")\n",
    "for no, item in enumerate (comments):\n",
    "    print(no, \"->\", item.find_element_by_css_selector('div p').text)\n",
    "    \n",
    "driver.quit()\n"
   ]
  },
  {
   "cell_type": "code",
   "execution_count": null,
   "metadata": {},
   "outputs": [],
   "source": []
  }
 ],
 "metadata": {
  "kernelspec": {
   "display_name": "Python 3",
   "language": "python",
   "name": "python3"
  },
  "language_info": {
   "codemirror_mode": {
    "name": "ipython",
    "version": 3
   },
   "file_extension": ".py",
   "mimetype": "text/x-python",
   "name": "python",
   "nbconvert_exporter": "python",
   "pygments_lexer": "ipython3",
   "version": "3.8.5"
  }
 },
 "nbformat": 4,
 "nbformat_minor": 4
}
