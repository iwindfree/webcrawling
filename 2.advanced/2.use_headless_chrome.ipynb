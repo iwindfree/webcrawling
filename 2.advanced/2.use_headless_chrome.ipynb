{
 "cells": [
  {
   "cell_type": "markdown",
   "metadata": {},
   "source": [
    "# Headless chrome\n",
    "터미널에서 크롤링을 하거나, 또는 selenium 을 사용해서 브라우저를 실제로 실행시킬 필요가 없는 경우, 예전에는 \n",
    "Phantom.js 를 사용했으나, 최근에 selenium 측에서는 phantom.js 를 deprecate 시키고, 대신\n",
    "headless chrome 을 사용하는 것을 권장하고 있다."
   ]
  },
  {
   "cell_type": "code",
   "execution_count": 1,
   "metadata": {},
   "outputs": [
    {
     "name": "stdout",
     "output_type": "stream",
     "text": [
      "https://www.python.org/\n",
      "Welcome to Python.org\n",
      "Python Documentation by Version\n",
      "Download Python for Other Platforms\n",
      "Python 2.5.3\n",
      "Python 2.5.4 Release\n",
      "Python 2.5.4\n",
      "Python 2.5.3 Release\n",
      "Python 2.5 Release\n",
      "Python 2.5.2 Release\n",
      "Sunsetting Python 2\n",
      "Python 2.5.1 Release\n",
      "Python 3.1.4\n",
      "Python 2.5.0\n",
      "Python 2.5.2\n",
      "Python 3.1.4 Release\n",
      "Python 3.1.3 Release\n",
      "Python 2.5.1\n",
      "Python 3.2.1 Release\n",
      "Python 2.7.9rc1\n",
      "Python 3.0 Release\n",
      "Python 3.2.5 Release\n"
     ]
    }
   ],
   "source": [
    "from selenium import webdriver\n",
    "from selenium.webdriver.common.keys import Keys\n",
    "import time\n",
    "\n",
    "chromedriver='/usr/local/Cellar/chromedriver/chromedriver'\n",
    "opt = webdriver.ChromeOptions()\n",
    "opt.add_argument('headless')\n",
    "driver = webdriver.Chrome(chromedriver,options=opt)\n",
    "driver.get('https://www.python.org')\n",
    "# 옵션에는 다양한 값을 설정할 수 있다. ex: User-Agent 설정 등 http header 관련 값들을 설정할 때 사용\n",
    "\n",
    "\n",
    "print(driver.current_url)\n",
    "print(driver.title)\n",
    "assert \"Python\" in driver.title  # title 에 Python 이라는 문자열이 없으면 여기서 프로그램 종료\n",
    "elem=driver.find_element_by_id('id-search-field')\n",
    "# 키보드 이벤트 전달\n",
    "elem.send_keys(\"python\")\n",
    "elem.send_keys(Keys.RETURN)\n",
    "assert \"No results found.\" not in driver.page_source\n",
    "# 일정시간 대기\n",
    "time.sleep(2)\n",
    "#브라우저 닫가\n",
    "s_titles=driver.find_elements_by_css_selector(\"#content > div > section > form > ul > li  > h3 > a \")\n",
    "for t in s_titles:\n",
    "    print(t.text)\n",
    "\n",
    "driver.quit()"
   ]
  }
 ],
 "metadata": {
  "kernelspec": {
   "display_name": "Python 3",
   "language": "python",
   "name": "python3"
  },
  "language_info": {
   "codemirror_mode": {
    "name": "ipython",
    "version": 3
   },
   "file_extension": ".py",
   "mimetype": "text/x-python",
   "name": "python",
   "nbconvert_exporter": "python",
   "pygments_lexer": "ipython3",
   "version": "3.8.5"
  }
 },
 "nbformat": 4,
 "nbformat_minor": 4
}
