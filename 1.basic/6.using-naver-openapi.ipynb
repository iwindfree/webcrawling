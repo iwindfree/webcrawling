{
 "cells": [
  {
   "cell_type": "code",
   "execution_count": 1,
   "metadata": {},
   "outputs": [
    {
     "name": "stdout",
     "output_type": "stream",
     "text": [
      "{'lastBuildDate': 'Sun, 13 Jun 2021 14:06:46 +0900', 'total': 134476, 'start': 1, 'display': 10, 'items': [{'title': '<b>LG CNS</b> 주식 차세대 디지털 전환 플랫폼', 'link': 'https://blog.naver.com/englishpro1?Redirect=Log&logNo=222215896465', 'description': '<b>LG CNS</b> 주식 차세대 디지털 전환 플랫폼 나날이 발전하는 사회에서 지금 주목하는 게 바로 4차 산업에 관련된 부분이라고 할 수 있는데요. 이를 통해 앞으로 더 디지털 전환에 대해서도 본격적인 흐름을 보이고... ', 'bloggername': '행복한 세상을 꿈꾸며', 'bloggerlink': 'https://blog.naver.com/englishpro1', 'postdate': '20210122'}, {'title': '코인 살까..? CBDC관련기업 파보기(네이버, LGCNS, 삼성SDS)', 'link': 'https://blog.naver.com/cront4831?Redirect=Log&logNo=222385965141', 'description': '기업 #LGCNS 다음은 #엘지CNS 차례 <b>LG CNS</b>는 아직 상장이 안되어있다. 비상장기업으로 장외주식으로만 매수할 수 있음. <b>LG CNS</b>도 삼성SDS와 마찬가지도 우리나라 IT 서비스 역량을 세계 시장에 전파하고 있는... ', 'bloggername': 'FIRE족 경제적자유를 위해서', 'bloggerlink': 'https://blog.naver.com/cront4831', 'postdate': '20210605'}, {'title': '&quot;<b>LG CNS</b> UXM&quot; 웨비나 사전등록하고 풍성한 혜택 받아가세요!', 'link': 'https://blog.lgcns.com/2583?category=442369', 'description': \"LG , LGCNS , UXM , Webinar , 사전등록 , 웨비나 , 이벤트 ' Notice&amp;Event ' Category Post &quot;<b>LG CNS</b> UXM&quot; 웨비나 사전등록하고 풍성한 혜택 받아가세요! (0) 2021.06.11 &quot;CloudXper ProOps&quot; 런칭! 추천하고 선물... \", 'bloggername': 'Creative and Smart! LG CNS', 'bloggerlink': 'https://blog.lgcns.com/', 'postdate': '20210611'}, {'title': '<b>LG CNS</b> 주당 배당금 855원으로 예정!', 'link': 'https://blog.naver.com/djdjdddd?Redirect=Log&logNo=222272995477', 'description': '기다리고 기다리던 <b>LG CNS</b>의 정기주총 소집 통지서와 주당 배당금 금액이 나왔습니다!! 방금 편의점 갔다가 확인해보니 와 있었네요 주주 인증 올해 주당 배당금은 아래 사진에 나와 있는 것처럼... ', 'bloggername': '쓰용 투자 일기', 'bloggerlink': 'https://blog.naver.com/djdjdddd', 'postdate': '20210312'}, {'title': '손그림 스탑모션 제작후기 - <b>LG CNS</b> 전자정부편', 'link': 'https://blog.naver.com/sssksss7?Redirect=Log&logNo=222343710526', 'description': '라는 것이었어요 제가 살면서 늘 편리하게 사용하던것들이 LG가 만든줄 전혀 모르고 있다가 영상을 만들면서 알게 된 것이죠 이번 <b>LG CNS</b> 전자정부 영상도 역시 그랬습니다 주민등록 등본이나 각종 민원을... ', 'bloggername': '천천히 지금 할수있는 일을 하면서 가자', 'bloggerlink': 'https://blog.naver.com/sssksss7', 'postdate': '20210509'}, {'title': \"<b>LG CNS</b>, 2.5조 '세종 스마트시티' 이끈다\", 'link': 'https://blog.naver.com/hjh6589?Redirect=Log&logNo=222110646990', 'description': \"<b>LG CNS</b>, 2.5조 '세종 스마트시티' 이끈다 A13면 1단 기사입력 2020.10.08. 오후 9:52 기사원문 스크랩 154 요약봇 글자 크기 변경하기 현대차컨소시엄 꺾고 우선협상자 '데이터 공유 플랫폼 도시'로 운영 자율주행... \", 'bloggername': 'hjh6589님의 블로그', 'bloggerlink': 'https://blog.naver.com/hjh6589', 'postdate': '20201008'}, {'title': '●LGCNS(엘지씨엔에스)●LGCNS주식(상장)●기업공개(IPO)... ', 'link': 'https://blog.naver.com/freetime0914?Redirect=Log&logNo=222367738330', 'description': \"IT 서비스 계열사인 LGCNS는 2023년까지 <b>LG</b>전자, <b>LG</b>화학, <b>LG</b>디스플레이 등 <b>LG</b>그룹 계열사 IT시스템 90% 이상을 클라우드로 전환하는 '퍼블릭 클라우드 퍼스트' 프로젝트를 추진하고 있습니다. LGCNS는 최근... \", 'bloggername': '장외주식 이야기 ☎ 010-2343-9027 ☎', 'bloggerlink': 'https://blog.naver.com/freetime0914', 'postdate': '20210526'}, {'title': '<b>LG CNS</b> 면접: 질문에 핵심에 접근하는 연습 좀 하자', 'link': 'https://blog.naver.com/jdmteam?Redirect=Log&logNo=222395061138', 'description': '<b>LG CNS</b> 면접 이번 <b>LG CNS</b>에서는 21년 8월에 입사 예정인 IT Intenstive Course 신입채용을 진행합니다. <b>LG CNS</b> 면접을 준비하는 학생들에게서 많이 보이는 문제점들은 어떤 것일까요? 답변이 다른 길로.. 정해진 시간 내에... ', 'bloggername': 'IT아는형님', 'bloggerlink': 'https://blog.naver.com/jdmteam', 'postdate': '20210613'}, {'title': '[48] 블록체인 기반 모바일 운전면허증, <b>LG CNS</b>가 만든다... ', 'link': 'https://blog.naver.com/kys850920?Redirect=Log&logNo=222374081526', 'description': 'me/5izBk1SB 정부의 블록체인 기반 모바일 운전면허증 서비스 구축 사업을 <b>LG CNS</b>가 맡게됐다. 이번 사업은 국가신분증을 모바일로 전환하는 첫 번째 사례로 상징적인 의미가 크다. <b>LG CNS</b>는 이번 사업을 따내면서... ', 'bloggername': '나를 알아가는 시간', 'bloggerlink': 'https://blog.naver.com/kys850920', 'postdate': '20210529'}, {'title': '2021년 상반기 <b>LG CNS</b> 채용 자소서 항목 작성 전략', 'link': 'https://blog.naver.com/michaelchae?Redirect=Log&logNo=222360316835', 'description': '오늘은 2021년 상반기 <b>LG CNS</b> 채용 자소서 항목 작성 전략 대해서 이야기를 해보겠습니다. 4차산업혁명으로 인해 디지털화가 되어 갈수록 IT회사의 역할은 커져가고 있습니다. 특히, 전통적으로 금융권 SI에... ', 'bloggername': '취업전문가 우민기쌤 공식 블로그', 'bloggerlink': 'https://blog.naver.com/michaelchae', 'postdate': '20210521'}]}\n"
     ]
    }
   ],
   "source": [
    "import requests\n",
    "import os\n",
    "import sys\n",
    "import base64\n",
    "clientId = \"mBHQgcAf07hnOOkTs4qK\"\n",
    "clientSecret= \"rnqMZrshkU\"\n",
    "searchWord='lgcns'\n",
    "url=\"https://openapi.naver.com/v1/search/blog?query=\"+ searchWord\n",
    "headerVal = {'X-Naver-Client-Id': clientId, 'X-Naver-Client-Secret': clientSecret}\n",
    "res = requests.get(url,headers=headerVal)\n",
    "if(res.status_code == 200) :\n",
    "    print(res.json())\n",
    "else :\n",
    "    print(\"Error\")\n"
   ]
  },
  {
   "cell_type": "code",
   "execution_count": null,
   "metadata": {},
   "outputs": [],
   "source": []
  },
  {
   "cell_type": "code",
   "execution_count": null,
   "metadata": {},
   "outputs": [],
   "source": []
  }
 ],
 "metadata": {
  "kernelspec": {
   "display_name": "Python 3",
   "language": "python",
   "name": "python3"
  },
  "language_info": {
   "codemirror_mode": {
    "name": "ipython",
    "version": 3
   },
   "file_extension": ".py",
   "mimetype": "text/x-python",
   "name": "python",
   "nbconvert_exporter": "python",
   "pygments_lexer": "ipython3",
   "version": "3.8.5"
  }
 },
 "nbformat": 4,
 "nbformat_minor": 4
}
