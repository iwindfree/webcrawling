{
 "cells": [
  {
   "cell_type": "markdown",
   "metadata": {},
   "source": [
    "# Http Response 사용하기\n",
    "requests 패키지를 사용하려 특정 웹페이지를 요청했을 때 http response 를 사용하는 샘플 코드를 살펴보겠습니다."
   ]
  },
  {
   "cell_type": "code",
   "execution_count": null,
   "metadata": {},
   "outputs": [],
   "source": []
  },
  {
   "cell_type": "code",
   "execution_count": 1,
   "metadata": {},
   "outputs": [
    {
     "name": "stdout",
     "output_type": "stream",
     "text": [
      "response code:200\n",
      "Coffee1\n",
      "Tea1\n",
      "Coca Cola1\n",
      "Coffee2\n",
      "Tea2\n",
      "Coca Cola2\n",
      "Coffee3\n",
      "Tea3\n",
      "Coca Cola3\n",
      "Coffee4\n",
      "Tea4\n",
      "Coca Cola4\n"
     ]
    }
   ],
   "source": [
    "import requests\n",
    "from bs4 import BeautifulSoup\n",
    "res = requests.get(\"https://iwindfree.github.io/crawling_sample/list.html\")\n",
    "print('response code:' + str(res.status_code))\n",
    "soup = BeautifulSoup(res.content,'html.parser')\n",
    "mydata = soup.select('li')\n",
    "for item in mydata:\n",
    "    print(item.get_text())"
   ]
  },
  {
   "cell_type": "markdown",
   "metadata": {},
   "source": [
    "http response 의 상태 코드에 대해서는 여기서 설명하지는 않겠습니다. 단지 웹페지를 요청했을 때 정상/비정상 유무를 판단하기 위해서 우리는 http response 의 상태 코드를 사용할 수 있습니다. 대표적으로 정상적인 응답에서는 response 상태 코드 200 을 리턴받게 됩니다. 위의 코드에서 res.status_code 가 response 의 상태 코드를 나타내는 변수입니다. "
   ]
  },
  {
   "cell_type": "code",
   "execution_count": null,
   "metadata": {},
   "outputs": [],
   "source": []
  }
 ],
 "metadata": {
  "kernelspec": {
   "display_name": "Python 3",
   "language": "python",
   "name": "python3"
  },
  "language_info": {
   "codemirror_mode": {
    "name": "ipython",
    "version": 3
   },
   "file_extension": ".py",
   "mimetype": "text/x-python",
   "name": "python",
   "nbconvert_exporter": "python",
   "pygments_lexer": "ipython3",
   "version": "3.8.5"
  }
 },
 "nbformat": 4,
 "nbformat_minor": 4
}
