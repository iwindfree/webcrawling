{
 "cells": [
  {
   "cell_type": "markdown",
   "metadata": {},
   "source": [
    "# CSS selector 를 이용한 크롤링\n",
    "\n",
    "이번에는 css selector 를 이용하여 크롤링을 하는 방법에 대해서 설명하겠습니다. \n"
   ]
  },
  {
   "cell_type": "markdown",
   "metadata": {},
   "source": [
    "테스트를 위하여 간단한 html 페이지를 github 에 올렸습니다. </p>\n",
    "https://iwindfree.github.io/crawling_sample/list.html\n",
    "\n",
    "전체 페이지 코드는 아래와 같습니다."
   ]
  },
  {
   "cell_type": "markdown",
   "metadata": {},
   "source": [
    "```html\n",
    "<!DOCTYPE html>\n",
    "<html>\n",
    "<head>\n",
    "<style>\n",
    "ul.a {\n",
    "  list-style-type: circle;\n",
    "}\n",
    "\n",
    "ul.b {\n",
    "  list-style-type: square;\n",
    "}\n",
    "\n",
    "ol.c {\n",
    "  list-style-type: upper-roman;\n",
    "}\n",
    "\n",
    "ol.d {\n",
    "  list-style-type: lower-alpha;\n",
    "}\n",
    "</style>\n",
    "</head>\n",
    "<body>\n",
    "\n",
    "<h2>Lists</h2>\n",
    "<h3>Example of unordered lists: </h3>\n",
    "<ul class=\"a\">\n",
    "  <li>\n",
    "      <a href=\"www.google.com\">Coffee1</a>\n",
    "  </li>\n",
    "  <li>\n",
    "      <a href=\"www.daum.net\">Tea1</a>\n",
    "  </li>\n",
    "  <li>Coca Cola1</li>\n",
    "</ul>\n",
    "\n",
    "<ul class=\"b\" id=\"myid\">\n",
    "  <li>Coffee2</li>\n",
    "  <li>Tea2</li>\n",
    "  <li>Coca Cola2</li>\n",
    "</ul>\n",
    " \n",
    "<h3><Example of ordered lists:</h3>\n",
    "<ol class=\"c\">\n",
    "  <li>Coffee3</li>\n",
    "  <li>Tea3</li>\n",
    "  <li>Coca Cola3</li>\n",
    "</ol>\n",
    "\n",
    "<ol class=\"d\">\n",
    "  <li>Coffee4</li>\n",
    "  <li>Tea4</li>\n",
    "  <li>Coca Cola4</li>\n",
    "</ol>\n",
    "\n",
    "</body>\n",
    "</html>\n",
    "\n",
    "```"
   ]
  },
  {
   "cell_type": "markdown",
   "metadata": {},
   "source": [
    "css selector 는 html 코드 내에서 특정 태그를 선택할 수 있는 기능을 제공합니다. 간단한 예제를 살펴보겠습니다. "
   ]
  },
  {
   "cell_type": "code",
   "execution_count": 10,
   "metadata": {},
   "outputs": [
    {
     "name": "stdout",
     "output_type": "stream",
     "text": [
      "Coffee1\n",
      "Tea1\n",
      "Coca Cola1\n",
      "Coffee2\n",
      "Tea2\n",
      "Coca Cola2\n",
      "Coffee3\n",
      "Tea3\n",
      "Coca Cola3\n",
      "Coffee4\n",
      "Tea4\n",
      "Coca Cola4\n"
     ]
    }
   ],
   "source": [
    "import requests\n",
    "from bs4 import BeautifulSoup\n",
    "res = requests.get(\"https://iwindfree.github.io/crawling_sample/list.html\")\n",
    "soup = BeautifulSoup(res.content,'html.parser')\n",
    "mydata = soup.select('li')\n",
    "for item in mydata:\n",
    "    print(item.get_text())"
   ]
  },
  {
   "cell_type": "markdown",
   "metadata": {},
   "source": [
    "결과를 보면 select 함수로 `li` 태그를 선택하였고, 해당 태그안에 있는 text 를 list 로 반환하였음을 알 수 있습니다. 이번에는 태그의 계층구조를 갖고 크롤링을 할 수 있는 방법을 알아보겠습니다. "
   ]
  },
  {
   "cell_type": "code",
   "execution_count": 34,
   "metadata": {},
   "outputs": [
    {
     "name": "stdout",
     "output_type": "stream",
     "text": [
      "Coffee1\n",
      "Tea1\n",
      "Coca Cola1\n",
      "Coffee2\n",
      "Tea2\n",
      "Coca Cola2\n"
     ]
    }
   ],
   "source": [
    "import requests\n",
    "from bs4 import BeautifulSoup\n",
    "res = requests.get(\"https://iwindfree.github.io/crawling_sample/list.html\")\n",
    "soup = BeautifulSoup(res.content,'html.parser')\n",
    "mydata = soup.select('ul li')\n",
    "for item in mydata:\n",
    "    print(item.get_text())"
   ]
  },
  {
   "cell_type": "markdown",
   "metadata": {},
   "source": [
    "이전의 코드와 차이가 있는 부분은 `mydata = soup.select('ul li')` 입니다. 태그 내에서 ul 태그 밑에 li 태그들에 대한 text 값들을 크롤링 하는 방법입니다. 일반적으로 html 은 계층구조로 문서 구조가 이루어져 있기 때문에 이러한 방법을 사용할 수 있는 것입니다. 여기서\n",
    "```\n",
    "soup.select('ul li') \n",
    "```\n",
    "는 ul 태그의 다음 태그가 꼭 li 가 되어야 한다는 것은 아닙니다. 'ul' 태그와 'li' 태그 사이에 어떠한 다른 태그가 와도 상관이 없습니다. "
   ]
  },
  {
   "cell_type": "code",
   "execution_count": 36,
   "metadata": {},
   "outputs": [
    {
     "name": "stdout",
     "output_type": "stream",
     "text": [
      "Coffee1\n",
      "Tea1\n"
     ]
    }
   ],
   "source": [
    "import requests\n",
    "from bs4 import BeautifulSoup\n",
    "res = requests.get(\"https://iwindfree.github.io/crawling_sample/list.html\")\n",
    "soup = BeautifulSoup(res.content,'html.parser')\n",
    "mydata = soup.select('ul a')\n",
    "for item in mydata:\n",
    "    print(item.get_text())"
   ]
  },
  {
   "cell_type": "markdown",
   "metadata": {},
   "source": [
    " 이번에는 `select('ul a')` 로 코드를 수정해 보았습니다. 결과는 Coffee1, Tea1 이 선택이 됩니다. \n",
    " ```\n",
    " <ul class=\"a\">\n",
    "  <li>\n",
    "      <a href=\"www.google.com\">Coffee1</a>\n",
    "  </li>\n",
    "  <li>\n",
    "      <a href=\"www.daum.net\">Tea1</a>\n",
    "  </li>\n",
    "  <li>Coca Cola1</li>\n",
    "</ul>\n",
    "```\n",
    "이 부분이 크롤링 되었다고 이해하시면 됩니다. \n"
   ]
  },
  {
   "cell_type": "code",
   "execution_count": 38,
   "metadata": {},
   "outputs": [],
   "source": [
    "import requests\n",
    "from bs4 import BeautifulSoup\n",
    "res = requests.get(\"https://iwindfree.github.io/crawling_sample/list.html\")\n",
    "soup = BeautifulSoup(res.content,'html.parser')\n",
    "mydata = soup.select('ul > a')\n",
    "for item in mydata:\n",
    "    print(item.get_text())"
   ]
  },
  {
   "cell_type": "markdown",
   "metadata": {},
   "source": [
    "위의 코드를 실행하면 아무런 결과값을 얻을 수 없습니다. `ul > a` 라는 표현식은 'ul' 태그 바로 다음에 'a' 라는 태그가 나와야 한다는 것을 의미합니다. 예제 html 에서는 'ul' 태그 다음 'li' 태그가 있고, 다음에 'a' 태그가 있기 때문에 위의 조건을 만족하지 못합니다. "
   ]
  },
  {
   "cell_type": "code",
   "execution_count": 41,
   "metadata": {},
   "outputs": [
    {
     "name": "stdout",
     "output_type": "stream",
     "text": [
      "Coffee1\n",
      "Tea1\n"
     ]
    }
   ],
   "source": [
    "import requests\n",
    "from bs4 import BeautifulSoup\n",
    "res = requests.get(\"https://iwindfree.github.io/crawling_sample/list.html\")\n",
    "soup = BeautifulSoup(res.content,'html.parser')\n",
    "mydata = soup.select('ul > li > a')\n",
    "for item in mydata:\n",
    "    print(item.get_text())"
   ]
  },
  {
   "cell_type": "markdown",
   "metadata": {},
   "source": [
    "위와 같이 `ul > li > a ` 라고 검색 조건을 수정하면 다시 원하는 결과를 얻을 수 있습니다. 요약하면, select 함수 검색식에서 태그 사이가 스페이스 이면 두 태그 사이에 어떠한 태그가 와도 좋다는 뜻이며, `>` 가 있다면 바로 태그들이 순서대로 나타나야 된다는 뜻입니다. 이번에는 css 를 이용하여 검색하는 코드를 살펴보겠습니다."
   ]
  },
  {
   "cell_type": "code",
   "execution_count": 43,
   "metadata": {},
   "outputs": [
    {
     "name": "stdout",
     "output_type": "stream",
     "text": [
      "\n",
      "Coffee1\n",
      "Tea1\n",
      "Coca Cola1\n",
      "\n"
     ]
    }
   ],
   "source": [
    "import requests\n",
    "from bs4 import BeautifulSoup\n",
    "res = requests.get(\"https://iwindfree.github.io/crawling_sample/list.html\")\n",
    "soup = BeautifulSoup(res.content,'html.parser')\n",
    "mydata = soup.select('.a')\n",
    "for item in mydata:\n",
    "    print(item.get_text())"
   ]
  },
  {
   "cell_type": "markdown",
   "metadata": {},
   "source": [
    "css 이름으로 검색할 때는 css 이름앞에 `.` 을 넣어주면 됩니다. 위의 코드는 'a' 라는 스타일시트가 적용된 부분을 찾아서 출력하는 것입니다. 이번에는 자주 사용하는 속성중에 'id' 값을 이용하여 검색하는 예제 코드를 살펴보겠습니다. 결론부터 말하면 `#id값` 을 사용하면 됩니다. "
   ]
  },
  {
   "cell_type": "code",
   "execution_count": 49,
   "metadata": {},
   "outputs": [
    {
     "name": "stdout",
     "output_type": "stream",
     "text": [
      "\n",
      "Coffee2\n",
      "Tea2\n",
      "Coca Cola2\n",
      "\n"
     ]
    }
   ],
   "source": [
    "import requests\n",
    "from bs4 import BeautifulSoup\n",
    "res = requests.get(\"https://iwindfree.github.io/crawling_sample/list.html\")\n",
    "soup = BeautifulSoup(res.content,'html.parser')\n",
    "mydata = soup.select('#myid')\n",
    "for item in mydata:\n",
    "    print(item.get_text())"
   ]
  },
  {
   "cell_type": "markdown",
   "metadata": {},
   "source": [
    "이번에는 위에서 배웠던 것들을 복합적으로 사용해보는 방법에 대하여 살펴보겠습니다."
   ]
  },
  {
   "cell_type": "code",
   "execution_count": 53,
   "metadata": {},
   "outputs": [
    {
     "name": "stdout",
     "output_type": "stream",
     "text": [
      "\n",
      "Coffee2\n",
      "Tea2\n",
      "Coca Cola2\n",
      "\n"
     ]
    }
   ],
   "source": [
    "import requests\n",
    "from bs4 import BeautifulSoup\n",
    "res = requests.get(\"https://iwindfree.github.io/crawling_sample/list.html\")\n",
    "soup = BeautifulSoup(res.content,'html.parser')\n",
    "mydata = soup.select('ul.b#myid')\n",
    "for item in mydata:\n",
    "    print(item.get_text())"
   ]
  },
  {
   "cell_type": "markdown",
   "metadata": {},
   "source": [
    "`select(ul.b#myid`) 라고 되어 있습니다. ul 태그 중에 b 라는 css class 를 사용하고 myid 란 id 값을 갖고 있는 부분을 찾는 코드입니다."
   ]
  },
  {
   "cell_type": "code",
   "execution_count": 57,
   "metadata": {},
   "outputs": [
    {
     "name": "stdout",
     "output_type": "stream",
     "text": [
      "Coffee1\n",
      "Tea1\n"
     ]
    }
   ],
   "source": [
    "import requests\n",
    "from bs4 import BeautifulSoup\n",
    "res = requests.get(\"https://iwindfree.github.io/crawling_sample/list.html\")\n",
    "soup = BeautifulSoup(res.content,'html.parser')\n",
    "mydata = soup.select('ul.a a')\n",
    "for item in mydata:\n",
    "    print(item.get_text())"
   ]
  },
  {
   "cell_type": "markdown",
   "metadata": {},
   "source": [
    "이제는 좀 더 쉽게 이해가 될 것입니다. 'ul' 태그중에 css class 명이 'a' 인 것과 그 사이에 어떤 태그가 있어도 상관 없지만 'a' 태그가 있는 요소를 찾는 코드입니다. css class 명도 'a' 이고 태그명도 'a' 가 있어서 좀 헷갈라네요...ㅠㅠ"
   ]
  }
 ],
 "metadata": {
  "kernelspec": {
   "display_name": "Python 3",
   "language": "python",
   "name": "python3"
  },
  "language_info": {
   "codemirror_mode": {
    "name": "ipython",
    "version": 3
   },
   "file_extension": ".py",
   "mimetype": "text/x-python",
   "name": "python",
   "nbconvert_exporter": "python",
   "pygments_lexer": "ipython3",
   "version": "3.8.5"
  }
 },
 "nbformat": 4,
 "nbformat_minor": 4
}
