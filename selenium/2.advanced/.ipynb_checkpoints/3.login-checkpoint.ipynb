{
 "cells": [
  {
   "cell_type": "markdown",
   "metadata": {},
   "source": [
    "# login 해보기"
   ]
  },
  {
   "cell_type": "code",
   "execution_count": 1,
   "metadata": {},
   "outputs": [
    {
     "name": "stdout",
     "output_type": "stream",
     "text": [
      "로그인\n",
      "Home\n",
      "What’s happening?\n",
      "\n",
      "Tweet\n",
      "Your Home Timeline\n",
      "Welcome back\n",
      "Select some topics you're interested in to help personalize your Twitter experience, starting with finding people to follow.\n",
      "Get started\n",
      "Go\n",
      "@golang\n",
      "·\n",
      "Jun 24\n",
      "We're excited to announce a partnership with Stack Overflow launching the Go Collective on Stack Overflow today. See https://blog.golang.org/stackoverflow\n",
      "\n",
      "#golang\n",
      "3\n",
      "163\n",
      "598\n",
      "Golang Weekly\n",
      "@golangweekly\n",
      "·\n",
      "16h\n",
      "Reducing Memory Allocations in Go:\n",
      "Reducing Memory Allocations in Golang\n",
      "Go’s place between C and Python in terms of abstraction and garbage collection memory management model has made it attractive to programmers looking for a fast but reasonably high level language....\n",
      "chris124567.github.io\n",
      "Trending now\n",
      "Trends for you\n",
      "Trending in South Korea\n",
      "악마정남\n",
      "19.2K Tweets\n",
      "#2PM_MUST_Comeback\n",
      "저기요 \"내일(28일) 저녁 6시\" 잠깐 시간 돼요? 2PM 정규 7집 <MUST> 들을 준비 \"해야 해\"\n",
      "Promoted by 2PM\n",
      "Trending in South Korea\n",
      "논란장르\n",
      "Trending in South Korea\n",
      "허리케인\n",
      "Trending in South Korea\n",
      "#헬로퓨처_화력체크_차트위로_번지\n",
      "4,467 Tweets\n",
      "Show more\n",
      "Who to follow\n",
      "Alibaba Cloud\n",
      "@alibaba_cloud\n",
      "Follow\n",
      "Promoted\n",
      "당신은 귀한 사람(최문순의 정치 철학)\n",
      "@moonsoonc\n",
      "Follow\n"
     ]
    }
   ],
   "source": [
    "from selenium import webdriver\n",
    "from selenium.webdriver.common.keys import Keys\n",
    "import time\n",
    "chromedriver='/usr/local/Cellar/chromedriver/chromedriver'\n",
    "opt = webdriver.ChromeOptions()\n",
    "#opt.add_argument('headless')\n",
    "opt.add_argument('User-Agent: Mozilla/5.0 (Macintosh; Intel Mac OS X 10_15_7) AppleWebKit/537.36 (KHTML, like Gecko) Chrome/91.0.4472.106 Safari/537.36')\n",
    "driver = webdriver.Chrome(chromedriver,options=opt)\n",
    "driver.get('https://www.twitter.com/login')\n",
    "id_elem = driver.find_element_by_name('session[username_or_email]')\n",
    "id_elem.clear()\n",
    "id_elem.send_keys('01000000000')\n",
    "pwd_elem=driver.find_element_by_name('session[password]')\n",
    "pwd_elem.clear()\n",
    "pwd_elem.send_keys('1111111!')\n",
    "button_elem=driver.find_element_by_css_selector(\"div[data-testid='LoginForm_Login_Button']\")\n",
    "print(button_elem.text)\n",
    "button_elem.send_keys(Keys.RETURN)\n",
    "time.sleep(2)\n",
    "#data = driver.find_elements_by_css_selector(\"div[data-testid='tweet']\")\n",
    "data = driver.find_elements_by_css_selector(\"div > div.css-1dbjc4n.r-18u37iz.r-13qz1uu.r-417010 > main\")\n",
    "for v in data:\n",
    "    print(v.text)\n",
    "\n",
    "\n",
    "driver.quit()"
   ]
  }
 ],
 "metadata": {
  "kernelspec": {
   "display_name": "Python 3",
   "language": "python",
   "name": "python3"
  },
  "language_info": {
   "codemirror_mode": {
    "name": "ipython",
    "version": 3
   },
   "file_extension": ".py",
   "mimetype": "text/x-python",
   "name": "python",
   "nbconvert_exporter": "python",
   "pygments_lexer": "ipython3",
   "version": "3.8.5"
  }
 },
 "nbformat": 4,
 "nbformat_minor": 4
}
